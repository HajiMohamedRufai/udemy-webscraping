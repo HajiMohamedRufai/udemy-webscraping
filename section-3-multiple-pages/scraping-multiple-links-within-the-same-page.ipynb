{
 "cells": [
  {
   "cell_type": "code",
   "execution_count": 1,
   "metadata": {},
   "outputs": [
    {
     "name": "stdout",
     "output_type": "stream",
     "text": [
      "hello\n"
     ]
    }
   ],
   "source": [
    "print(\"hello\")"
   ]
  },
  {
   "cell_type": "markdown",
   "metadata": {},
   "source": [
    "## scraping multiple links withing the same page"
   ]
  },
  {
   "cell_type": "markdown",
   "metadata": {},
   "source": [
    "website = \"https://subslikescript.com/movies\""
   ]
  },
  {
   "cell_type": "code",
   "execution_count": 6,
   "metadata": {},
   "outputs": [
    {
     "name": "stdout",
     "output_type": "stream",
     "text": [
      "30\n"
     ]
    }
   ],
   "source": [
    "print(len(links))"
   ]
  },
  {
   "cell_type": "code",
   "execution_count": 5,
   "metadata": {},
   "outputs": [
    {
     "name": "stdout",
     "output_type": "stream",
     "text": [
      "['movie/Blind_Detective-2332707', 'movie/Killer_Workout-91339', 'movie/Budapest_Noir-5161018', 'movie/Firefly-3582840', 'movie/Warriors_of_the_Rainbow_Seediq_Bale_II-4164468', 'movie/Sex_Appeal-91927', 'movie/Lonesome-15258032', 'movie/Corri_uomo_corri-62825', 'movie/Faraway-18747542', 'movie/The_Treasure_of_Swamp_Castle-137226', 'movie/Fantastic_Girls-4028826', 'movie/Meet_Me_in_the_Bathroom-16378298', 'movie/Shot-301171', 'movie/LasseMajas_detektivbyr_-_Stella_Nostra-4397382', 'movie/In_Real_Life-1087453', 'movie/The_Earth_Dies_Screaming-58050', 'movie/The_Mystery_of_Anthrax_Island-19863080', 'movie/Men_of_Plastic-23157348', 'movie/Ela_Veezha_Poonchira-15516546', 'movie/Married_by_Mistake-21403538', 'movie/The_Mask_of_the_Red_Death_Part_2-21443400', 'movie/A_spol_macskak-67816', 'movie/0815_-_In_der_Heimat-47789', 'movie/Level_Five-116866', 'movie/Mothman-1514425', 'movie/My_Favorite_Christmas_Tree-19895682', 'movie/Mistletoe_Match-18559372', 'movie/Adieu_Paris-13492256', 'movie/Smyrna-11935566', 'movie/Chuecatown-856776']\n",
      "completed!!\n"
     ]
    }
   ],
   "source": [
    "from bs4 import BeautifulSoup\n",
    "import requests\n",
    "import re\n",
    "root = \"https://subslikescript.com\"\n",
    "website = f\"{root}/movies\"\n",
    "content = requests.get(website).text\n",
    "soup = BeautifulSoup(content, 'lxml')\n",
    "\n",
    "ul_box = soup.find('ul', class_='scripts-list')  # unordered-list, ul box\n",
    "# for universally, use box\n",
    "# box = soup.find('article' ,class_='main-article')\n",
    "# I am using a similar box so as to reuse of soup\n",
    "links = []\n",
    "for link in ul_box.find_all('a', href=True):\n",
    "    # Get attribute values, link[href]\n",
    "    links.append(link['href'])\n",
    "print(links)\n",
    "\n",
    "# We have now the views/links\n",
    "# We need to concatenat the links which are view WITH the root/domain of the website\n",
    "path = '/Users/hajirufai/udemy-webscraping/section-3-multiple-pages/movies_scraped'\n",
    "for link in links:\n",
    "    # if (i+1) < 23:  # start from the 23rd file\n",
    "    #     continue\n",
    "    # use now normally scaping a single web page\n",
    "    # title = box.find('h1').get_text()\n",
    "    # The above: find sth similar name with this main page and with the the scraping\n",
    "    # site children\n",
    "    content = requests.get(f'{root}/{link}').text\n",
    "    soup = BeautifulSoup(content, 'lxml')\n",
    "    box = soup.find('article' ,class_='main-article')  # box == transcript_box\n",
    "    # The box element above contains title, plot and transcript\n",
    "    title = box.find('h1').get_text()\n",
    "    # Use a regular expression to replace all \"/\" characters with \"-\"\n",
    "    title = re.sub('/', '-', title)\n",
    "    plot = box.find('p', class_='plot').get_text()\n",
    "    transcript = box.find('div', class_='full-script').get_text(separator=' ', strip=True)\n",
    "    file_path = frclearcl'{path}/{title}.txt' \n",
    "    with open(file_path, 'a') as file:\n",
    "        # it needs to be raw, r formatted because one of the file name which starts with \"08/15 \"\n",
    "        file.write(f'{title.upper()}\\n')  \n",
    "        file.write(f'PLOT:\\n{plot}\\n')\n",
    "        file.write(f'TRANSCRIPT:\\n{transcript}')\n",
    "    \n",
    "print(\"completed!!\")\n",
    "\n",
    "\n",
    "\n"
   ]
  },
  {
   "cell_type": "code",
   "execution_count": null,
   "metadata": {},
   "outputs": [],
   "source": []
  },
  {
   "cell_type": "code",
   "execution_count": null,
   "metadata": {},
   "outputs": [],
   "source": []
  },
  {
   "cell_type": "code",
   "execution_count": 2,
   "metadata": {},
   "outputs": [
    {
     "name": "stdout",
     "output_type": "stream",
     "text": [
      "start\n",
      "0\n",
      "1\n"
     ]
    }
   ],
   "source": [
    "# from bs4 import BeautifulSoup\n",
    "# import requests\n",
    "# website = \"https://subslikescript.com/movies\"\n",
    "# content = requests.get(website).text\n",
    "# soup = BeautifulSoup(content, 'lxml')\n",
    "# # print(soup.children)\n",
    "# print(\"start\")\n",
    "# for i,item in enumerate(soup.children):\n",
    "#     # print((f'{i+1}:\\t{item}'))\n",
    "    \n",
    "#     print(i)"
   ]
  },
  {
   "cell_type": "code",
   "execution_count": null,
   "metadata": {},
   "outputs": [],
   "source": [
    "\n",
    "# # convention use box\n",
    "# movies_list_box = soup.find('ul', class_= \"scripts-list\")\n",
    "# movies_list_links = movies_list_box.find_all('a', href=True)\n",
    "# print(movies_list_links)\n",
    "# links =[]\n",
    "# for link in movies_list_links:\n",
    "#     # Getting Element attribute value, tag['attibute-name']\n",
    "#     links.append(link['href'])\n",
    "\n",
    "\n",
    "\n",
    "\n"
   ]
  },
  {
   "cell_type": "code",
   "execution_count": null,
   "metadata": {},
   "outputs": [],
   "source": []
  }
 ],
 "metadata": {
  "kernelspec": {
   "display_name": "base",
   "language": "python",
   "name": "python3"
  },
  "language_info": {
   "codemirror_mode": {
    "name": "ipython",
    "version": 3
   },
   "file_extension": ".py",
   "mimetype": "text/x-python",
   "name": "python",
   "nbconvert_exporter": "python",
   "pygments_lexer": "ipython3",
   "version": "3.10.9"
  },
  "orig_nbformat": 4
 },
 "nbformat": 4,
 "nbformat_minor": 2
}
