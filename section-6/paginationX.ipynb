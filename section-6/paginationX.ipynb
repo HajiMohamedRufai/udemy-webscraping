{
 "cells": [
  {
   "cell_type": "code",
   "execution_count": null,
   "metadata": {},
   "outputs": [],
   "source": [
    "print(\"pagination in selenium\")"
   ]
  },
  {
   "cell_type": "code",
   "execution_count": null,
   "metadata": {},
   "outputs": [],
   "source": [
    "from selenium import webdriver\n",
    "from selenium.webdriver.common.by import By\n",
    "from selenium.webdriver.chrome.options import Options\n",
    "from selenium.webdriver.support.ui import WebDriverWait\n",
    "from selenium.webdriver.support import expected_conditions as EC\n",
    "\n",
    "import pandas as pd\n",
    "\n",
    "website = 'https://www.audible.com/adblbestsellers?ref=a_search_t1_navTop_pl0cg1c0r0&pf_rd_p=adc4b13b-d074-4e1c-ac46-9f54aa53072b&pf_rd_r=6Z3BNK326ZH91DJ8XS8G'\n",
    "\n",
    "# Chrome options \n",
    "options = Options()\n",
    "# options.headless = True\n",
    "\n",
    "\n",
    "driver = webdriver.Chrome('/usr/bin/google-chrome', options=options)\n",
    "driver.get(website)\n",
    "\n"
   ]
  },
  {
   "cell_type": "code",
   "execution_count": null,
   "metadata": {},
   "outputs": [],
   "source": [
    "\n",
    "# driver.close()\n",
    "driver.quit()\n"
   ]
  },
  {
   "cell_type": "code",
   "execution_count": null,
   "metadata": {},
   "outputs": [],
   "source": [
    "# import explicit wait modules\n",
    "from selenium.webdriver.support.ui import WebDriverWait\n",
    "from selenium.webdriver.support import expected_conditions as EC\n"
   ]
  },
  {
   "attachments": {},
   "cell_type": "markdown",
   "metadata": {},
   "source": [
    "# SCRAPE A SINGLE PAGE with Title, Author, Lenght"
   ]
  },
  {
   "cell_type": "code",
   "execution_count": null,
   "metadata": {},
   "outputs": [],
   "source": [
    "from selenium import webdriver\n",
    "from selenium.webdriver.common.by import By\n",
    "from selenium.webdriver.chrome.options import Options\n",
    "from selenium.webdriver.support.ui import WebDriverWait\n",
    "from selenium.webdriver.support import expected_conditions as EC\n",
    "import pandas as pd\n",
    "import time\n",
    "\n",
    "website = 'https://www.audible.com/adblbestsellers?ref=a_search_t1_navTop_pl0cg1c0r0&pf_rd_p=adc4b13b-d074-4e1c-ac46-9f54aa53072b&pf_rd_r=6Z3BNK326ZH91DJ8XS8G'\n",
    "\n",
    "# Chrome options \n",
    "options = Options()\n",
    "# options.headless = True\n",
    "\n",
    "driver = webdriver.Chrome('/usr/bin/google-chrome', options=options)\n",
    "driver.get(website)\n",
    "\n",
    "xpath = '/html/body/div[1]/div[5]/div[5]/div/div[2]/div[4]/div/div/div/span/ul'\n",
    "box = driver.find_element(By.XPATH, xpath)\n",
    "products = box.find_elements(By.TAG_NAME, 'li')\n",
    "\n",
    "for index, product in enumerate(products):\n",
    "    print(index)\n",
    "    print(product.text)\n",
    "    print('.'*99)\n",
    "    if index == 10: break\n",
    "\n",
    "driver.quit()\n",
    "\n"
   ]
  },
  {
   "cell_type": "code",
   "execution_count": null,
   "metadata": {},
   "outputs": [],
   "source": [
    "\n",
    "title = []\n",
    "author = []\n",
    "lenght = []\n",
    "\n",
    "for product in products.find_elements(By.TAG_NAME, 'li'):\n",
    "    title.append(product.text.split('\\n')[0].split(\". \")[1])\n",
    "    author.append(product.text.split('\\n')[2].split(\": \")[1])\n",
    "    lenght.append(product.text.split('\\n')[4].split(\": \")[1])\n",
    "\n",
    "# create a pandas dataframe with columns title, author, lenght\n",
    "df = pd.DataFrame({'title':title,'author':author,'lenght':lenght})\n",
    "\n",
    "# save the dataframe in a csv file\n",
    "df.to_csv('audible_best_searches.csv')\n",
    "driver.quit()\n",
    "\n",
    "# products = box.find_element(By.TAG_NAME)\n"
   ]
  },
  {
   "cell_type": "code",
   "execution_count": null,
   "metadata": {},
   "outputs": [],
   "source": [
    "# box = WebDriverWait(driver, 10).until(EC.presence_of_element_located(By.XPATH, xpath)\n",
    "# xpath for title1\n",
    "xpath1 = f'{xpath}/li[1]/div/div[1]/div/div[2]/div/div/span/ul/li[1]/h3/a'\n",
    "# xpath for author1\n",
    "xpath2 = f'{xpath}/li[1]/div/div[1]/div/div[2]/div/div/span/ul/li[3]/span/a'\n",
    "# xpath for lenght1\n",
    "xpath3 = f'/html/body/div[1]/div[5]/div[5]/div/div[2]/div[4]/div/div/div/span/ul/li[1]/div/div[1]/div/div[2]/div/div/span/ul/li[6]'\n",
    "title =  driver.find_element(By.XPATH, xpath1).text\n",
    "author =  driver.find_element(By.XPATH, xpath2).text\n",
    "lenght =  driver.find_element(By.XPATH, xpath3).text\n",
    "\n",
    "print(\"title\", title)\n",
    "print(\"author\", author)\n",
    "print(\"lenght\", lenght)\n",
    "\n",
    "driver.quit()"
   ]
  },
  {
   "cell_type": "code",
   "execution_count": null,
   "metadata": {},
   "outputs": [],
   "source": [
    "# xpath for title2\n",
    "xpath = f'{xpath}/li[2]/div/div[1]/div/div[2]/div/div/span/ul/li[1]/h3/a'\n",
    "\n",
    "\n"
   ]
  },
  {
   "attachments": {},
   "cell_type": "markdown",
   "metadata": {},
   "source": [
    "### bs4 peek"
   ]
  },
  {
   "cell_type": "code",
   "execution_count": null,
   "metadata": {},
   "outputs": [],
   "source": [
    "# # import beautiful soup\n",
    "# from bs4 import BeautifulSoup\n",
    "# from bs4 import BeautifulSoup\n",
    "# import requests\n",
    "\n",
    "# website = 'https://www.audible.com/adblbestsellers?ref=a_search_t1_navTop_pl0cg1c0r0&pf_rd_p=adc4b13b-d074-4e1c-ac46-9f54aa53072b&pf_rd_r=6Z3BNK326ZH91DJ8XS8G'\n",
    "# result = requests.get(website)\n",
    "# content = result.text\n",
    "# soup = BeautifulSoup(content, 'lxml')\n",
    "# print(soup.prettify())\n"
   ]
  },
  {
   "cell_type": "code",
   "execution_count": null,
   "metadata": {},
   "outputs": [],
   "source": [
    "# TRY BY CLASS NAME\n"
   ]
  },
  {
   "cell_type": "code",
   "execution_count": null,
   "metadata": {},
   "outputs": [],
   "source": [
    "from selenium import webdriver\n",
    "from selenium.webdriver.common.by import By\n",
    "from selenium.webdriver.chrome.options import Options\n",
    "from selenium.webdriver.support.ui import WebDriverWait\n",
    "from selenium.webdriver.support import expected_conditions as EC\n",
    "import pandas as pd\n",
    "import time\n",
    "\n",
    "website = 'https://www.audible.com/adblbestsellers'\n",
    "\n",
    "# Chrome options \n",
    "options = Options()\n",
    "options.headless = True\n",
    "\n",
    "driver = webdriver.Chrome('/usr/bin/google-chrome', options=options)\n",
    "driver.get(website)\n",
    "\n",
    "ul_box = driver.find_element(By.XPATH, '/html/body/div[1]/div[5]/div[5]/div/div[2]/div[4]/div/div/div/span/ul')\n",
    "products = ul_box.find_elements(By.XPATH, './li')\n",
    "\n",
    "title = []\n",
    "author = []\n",
    "length = []\n",
    "\n",
    "for product in products:\n",
    "    title.append(product.text.split('\\n')[1].split('. ')[1])\n",
    "    author.append(product.text.split('\\n')[3].split(': ')[1])\n",
    "    length.append(product.text.split('\\n')[4].split(': ')[1])\n",
    "\n",
    "# create a df to store title, author and lenght\n",
    "df = pd.DataFrame({'title':title, 'author':author, 'length':length})\n",
    "df.to_csv(\"audible_best_searches.csv\", index=False)\n"
   ]
  },
  {
   "cell_type": "code",
   "execution_count": null,
   "metadata": {},
   "outputs": [],
   "source": [
    "\n",
    "print(products[0].text)\n",
    "print('.'*79)\n",
    "print(products[3].text)\n",
    "\n"
   ]
  },
  {
   "cell_type": "code",
   "execution_count": null,
   "metadata": {},
   "outputs": [],
   "source": [
    "\n",
    "print(products[11].text)\n",
    "print(products[12].text)"
   ]
  },
  {
   "cell_type": "code",
   "execution_count": null,
   "metadata": {},
   "outputs": [],
   "source": [
    "## Manipulating a stringm"
   ]
  },
  {
   "cell_type": "code",
   "execution_count": null,
   "metadata": {},
   "outputs": [],
   "source": [
    "text = '''1. First Born\n",
    "A Novel\n",
    "By: Will Dean\n",
    "Narrated by: Susie Riddell\n",
    "Length: 8 hrs and 35 mins\n",
    "Release date: 07-05-22\n",
    "Language: English\n",
    "4.5 out of 5 stars\n",
    "140 ratings\n",
    "Daily Deal price: $1.99 (87% off)\n",
    "Regular price: $15.48\n",
    "Sale ends in 11h 35m 8s\n",
    "Free with 30-day trial'''\n",
    "\n",
    "lines = text.split('\\n')\n",
    "key_value_pairs = {}\n",
    "\n",
    "for line in lines:\n",
    "    if ':' in line:\n",
    "        key, value = line.split(':', 1)\n",
    "        key = key.strip() # remove strip thanks!\n",
    "        value = value.strip()\n",
    "        key_value_pairs[key] = value\n",
    "\n",
    "print(key_value_pairs)\n"
   ]
  },
  {
   "cell_type": "code",
   "execution_count": null,
   "metadata": {},
   "outputs": [],
   "source": [
    "# list playing\n",
    "my_list = [2, 3\n",
    "        ]\n",
    "x, y = my_list\n",
    "print(x, y)"
   ]
  },
  {
   "cell_type": "code",
   "execution_count": null,
   "metadata": {},
   "outputs": [],
   "source": [
    "key_value_pairs = {}\n",
    "type(key_value_pairs)\n",
    "key_value_pairs['1'] = 1\n",
    "key_value_pairs['2'] = 2\n",
    "key_value_pairs['3'] = 3\n",
    "print(key_value_pairs)"
   ]
  },
  {
   "cell_type": "code",
   "execution_count": null,
   "metadata": {},
   "outputs": [],
   "source": [
    "# combining two dictionaries\n",
    "dict1 = {'key1': 'value1', 'key2': 'value a', 'key3':\"value x\"}\n",
    "dict2 = {'key1': 'value2', 'key2': 'value b', 'key3':'value x'}\n",
    " \n",
    "new_dict = {}\n",
    "\n",
    "# Merge the dictionaries\n",
    "for key in dict1.keys() | dict2.keys():\n",
    "    print(key)\n",
    "    new_dict[key] = [dict1.get(key), dict2.get(key)]\n",
    "\n",
    "print(new_dict)\n"
   ]
  },
  {
   "attachments": {},
   "cell_type": "markdown",
   "metadata": {},
   "source": [
    "## MERGING DICTIONARIED PRACTISE"
   ]
  },
  {
   "cell_type": "code",
   "execution_count": null,
   "metadata": {},
   "outputs": [],
   "source": [
    "dict1 = {'key1': 'value1', 'key2': 'value a', 'key3':\"value x\"}\n",
    "dict2 = {'key1': 'value2', 'key2': 'value b', 'key3':'value x'}\n",
    "# merged_dict = dict(dict1, **dict2)\n",
    "merged_dict = dict1 | dict2\n",
    "# merge the two dictioanries\n",
    "# merged_dict = dict(dict1.items() + dict2.items()) -> ERROR\n",
    "print(merged_dict)"
   ]
  },
  {
   "cell_type": "code",
   "execution_count": null,
   "metadata": {},
   "outputs": [],
   "source": [
    "# combining two dictionaries\n",
    "dict1 = {}\n",
    "dict2 = {'key1': 'value2', 'key2': 'value b', 'key3':'value x'}\n",
    " \n",
    "new_dict = {}\n",
    "\n",
    "# Merge the dictionaries\n",
    "for key in dict1.keys() | dict2.keys():\n",
    "    \n",
    "    new_dict[key] = [dict1.get(key), dict2.get(key)]\n",
    "\n",
    "print(new_dict)"
   ]
  },
  {
   "cell_type": "code",
   "execution_count": null,
   "metadata": {},
   "outputs": [],
   "source": [
    "## we use //tag-name[contains(@attribute, 'value)]\n",
    "The good thing is that the value does not need to be full"
   ]
  },
  {
   "attachments": {},
   "cell_type": "markdown",
   "metadata": {},
   "source": [
    "# PAGINATION"
   ]
  },
  {
   "cell_type": "code",
   "execution_count": 50,
   "metadata": {},
   "outputs": [],
   "source": [
    "# import selenium modules and By\n",
    "from selenium import webdriver\n",
    "from selenium.webdriver.common.by import By\n",
    "import pandas as pd\n",
    "import time\n",
    "\n",
    "\n",
    "# create a new Chrome session\n",
    "options = Options()\n",
    "# options.headless = True\n",
    "# initilize driver\n",
    "driver = webdriver.Chrome(options=options)\n",
    "\n",
    "website = 'https://www.audible.com/adblbestsellers'\n",
    "driver.get(website)\n",
    "\n",
    "xpath = '//*[@id=\"product-list-a11y-skiplink-target\"]/span/ul'\n",
    "ul_box = driver.find_element(By.XPATH, xpath)\n",
    "products = ul_box.find_elements(By.XPATH, './li')\n"
   ]
  },
  {
   "cell_type": "code",
   "execution_count": 51,
   "metadata": {},
   "outputs": [
    {
     "name": "stdout",
     "output_type": "stream",
     "text": [
      "Sample\n",
      "1. First Born\n",
      "A Novel\n",
      "By: Will Dean\n",
      "Narrated by: Susie Riddell\n",
      "Length: 8 hrs and 35 mins\n",
      "Release date: 07-05-22\n",
      "Language: English\n",
      "4.5 out of 5 stars\n",
      "140 ratings\n",
      "$1.99 -87% $15.48\n",
      "Sale ends in 10h 19m\n",
      "Free with 30-day trial\n"
     ]
    }
   ],
   "source": [
    "\n",
    "for index, product in enumerate(products):\n",
    "    if index==1: break\n",
    "    print(product.text)\n"
   ]
  }
 ],
 "metadata": {
  "kernelspec": {
   "display_name": "base",
   "language": "python",
   "name": "python3"
  },
  "language_info": {
   "codemirror_mode": {
    "name": "ipython",
    "version": 3
   },
   "file_extension": ".py",
   "mimetype": "text/x-python",
   "name": "python",
   "nbconvert_exporter": "python",
   "pygments_lexer": "ipython3",
   "version": "3.10.9"
  },
  "orig_nbformat": 4
 },
 "nbformat": 4,
 "nbformat_minor": 2
}
