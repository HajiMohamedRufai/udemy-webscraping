{
 "cells": [
  {
   "cell_type": "code",
   "execution_count": null,
   "metadata": {},
   "outputs": [],
   "source": [
    "print(\"pagination in selenium\")"
   ]
  },
  {
   "cell_type": "code",
   "execution_count": null,
   "metadata": {},
   "outputs": [],
   "source": [
    "from selenium import webdriver\n",
    "from selenium.webdriver.common.by import By\n",
    "from selenium.webdriver.chrome.options import Options\n",
    "from selenium.webdriver.support.ui import WebDriverWait\n",
    "from selenium.webdriver.support import expected_conditions as EC\n",
    "\n",
    "import pandas as pd\n",
    "\n",
    "website = 'https://www.audible.com/adblbestsellers?ref=a_search_t1_navTop_pl0cg1c0r0&pf_rd_p=adc4b13b-d074-4e1c-ac46-9f54aa53072b&pf_rd_r=6Z3BNK326ZH91DJ8XS8G'\n",
    "\n",
    "# Chrome options \n",
    "options = Options()\n",
    "# options.headless = True\n",
    "\n",
    "\n",
    "driver = webdriver.Chrome('/usr/bin/google-chrome', options=options)\n",
    "driver.get(website)\n",
    "\n"
   ]
  },
  {
   "cell_type": "code",
   "execution_count": null,
   "metadata": {},
   "outputs": [],
   "source": [
    "\n",
    "# driver.close()\n",
    "driver.quit()\n"
   ]
  },
  {
   "cell_type": "code",
   "execution_count": null,
   "metadata": {},
   "outputs": [],
   "source": [
    "# import explicit wait modules\n",
    "from selenium.webdriver.support.ui import WebDriverWait\n",
    "from selenium.webdriver.support import expected_conditions as EC\n"
   ]
  },
  {
   "attachments": {},
   "cell_type": "markdown",
   "metadata": {},
   "source": [
    "# SCRAPE A SINGLE PAGE with Title, Author, Lenght"
   ]
  },
  {
   "cell_type": "code",
   "execution_count": 5,
   "metadata": {},
   "outputs": [
    {
     "name": "stderr",
     "output_type": "stream",
     "text": [
      "/var/folders/jk/jzn8yxf53h546z4w5yvmch280000gn/T/ipykernel_22049/1972139211.py:15: DeprecationWarning: executable_path has been deprecated, please pass in a Service object\n",
      "  driver = webdriver.Chrome('/usr/bin/google-chrome', options=options)\n"
     ]
    },
    {
     "name": "stdout",
     "output_type": "stream",
     "text": [
      "0\n",
      "Sample\n",
      "1. Only the Dead\n",
      "A Thriller (Terminal List, Book 6)\n",
      "By: Jack Carr\n",
      "Narrated by: Ray Porter\n",
      "Series: Terminal List Book Series, Book 6\n",
      "Length: 15 hrs and 17 mins\n",
      "Release date: 05-16-23\n",
      "Language: English\n",
      "5 out of 5 stars\n",
      "693 ratings\n",
      "Regular price: $28.34\n",
      "Free with 30-day trial\n",
      "...................................................................................................\n",
      "1\n",
      "\n",
      "...................................................................................................\n",
      "2\n",
      "\n",
      "...................................................................................................\n",
      "3\n",
      "\n",
      "...................................................................................................\n",
      "4\n",
      "\n",
      "...................................................................................................\n",
      "5\n",
      "\n",
      "...................................................................................................\n",
      "6\n",
      "\n",
      "...................................................................................................\n",
      "7\n",
      "\n",
      "...................................................................................................\n",
      "8\n",
      "\n",
      "...................................................................................................\n",
      "9\n",
      "\n",
      "...................................................................................................\n",
      "10\n",
      "\n",
      "...................................................................................................\n"
     ]
    }
   ],
   "source": [
    "from selenium import webdriver\n",
    "from selenium.webdriver.common.by import By\n",
    "from selenium.webdriver.chrome.options import Options\n",
    "from selenium.webdriver.support.ui import WebDriverWait\n",
    "from selenium.webdriver.support import expected_conditions as EC\n",
    "import pandas as pd\n",
    "import time\n",
    "\n",
    "website = 'https://www.audible.com/adblbestsellers?ref=a_search_t1_navTop_pl0cg1c0r0&pf_rd_p=adc4b13b-d074-4e1c-ac46-9f54aa53072b&pf_rd_r=6Z3BNK326ZH91DJ8XS8G'\n",
    "\n",
    "# Chrome options \n",
    "options = Options()\n",
    "# options.headless = True\n",
    "\n",
    "driver = webdriver.Chrome('/usr/bin/google-chrome', options=options)\n",
    "driver.get(website)\n",
    "\n",
    "xpath = '/html/body/div[1]/div[5]/div[5]/div/div[2]/div[4]/div/div/div/span/ul'\n",
    "box = driver.find_element(By.XPATH, xpath)\n",
    "products = box.find_elements(By.TAG_NAME, 'li')\n",
    "\n",
    "for index, product in enumerate(products):\n",
    "    print(index)\n",
    "    print(product.text)\n",
    "    print('.'*99)\n",
    "    if index == 10: break\n",
    "\n",
    "driver.quit()\n",
    "\n"
   ]
  },
  {
   "cell_type": "code",
   "execution_count": null,
   "metadata": {},
   "outputs": [],
   "source": [
    "\n",
    "title = []\n",
    "author = []\n",
    "lenght = []\n",
    "\n",
    "for product in products.find_elements(By.TAG_NAME, 'li'):\n",
    "    title.append(product.text.split('\\n')[0].split(\". \")[1])\n",
    "    author.append(product.text.split('\\n')[2].split(\": \")[1])\n",
    "    lenght.append(product.text.split('\\n')[4].split(\": \")[1])\n",
    "\n",
    "# create a pandas dataframe with columns title, author, lenght\n",
    "df = pd.DataFrame({'title':title,'author':author,'lenght':lenght})\n",
    "\n",
    "# save the dataframe in a csv file\n",
    "df.to_csv('audible_best_searches.csv')\n",
    "driver.quit()\n",
    "\n",
    "# products = box.find_element(By.TAG_NAME)\n"
   ]
  },
  {
   "cell_type": "code",
   "execution_count": null,
   "metadata": {},
   "outputs": [],
   "source": [
    "# box = WebDriverWait(driver, 10).until(EC.presence_of_element_located(By.XPATH, xpath)\n",
    "# xpath for title1\n",
    "xpath1 = f'{xpath}/li[1]/div/div[1]/div/div[2]/div/div/span/ul/li[1]/h3/a'\n",
    "# xpath for author1\n",
    "xpath2 = f'{xpath}/li[1]/div/div[1]/div/div[2]/div/div/span/ul/li[3]/span/a'\n",
    "# xpath for lenght1\n",
    "xpath3 = f'/html/body/div[1]/div[5]/div[5]/div/div[2]/div[4]/div/div/div/span/ul/li[1]/div/div[1]/div/div[2]/div/div/span/ul/li[6]'\n",
    "title =  driver.find_element(By.XPATH, xpath1).text\n",
    "author =  driver.find_element(By.XPATH, xpath2).text\n",
    "lenght =  driver.find_element(By.XPATH, xpath3).text\n",
    "\n",
    "print(\"title\", title)\n",
    "print(\"author\", author)\n",
    "print(\"lenght\", lenght)\n",
    "\n",
    "driver.quit()"
   ]
  },
  {
   "cell_type": "code",
   "execution_count": null,
   "metadata": {},
   "outputs": [],
   "source": [
    "# xpath for title2\n",
    "xpath = f'{xpath}/li[2]/div/div[1]/div/div[2]/div/div/span/ul/li[1]/h3/a'\n",
    "\n",
    "\n"
   ]
  },
  {
   "attachments": {},
   "cell_type": "markdown",
   "metadata": {},
   "source": [
    "### bs4 peek"
   ]
  },
  {
   "cell_type": "code",
   "execution_count": null,
   "metadata": {},
   "outputs": [],
   "source": [
    "# # import beautiful soup\n",
    "# from bs4 import BeautifulSoup\n",
    "# from bs4 import BeautifulSoup\n",
    "# import requests\n",
    "\n",
    "# website = 'https://www.audible.com/adblbestsellers?ref=a_search_t1_navTop_pl0cg1c0r0&pf_rd_p=adc4b13b-d074-4e1c-ac46-9f54aa53072b&pf_rd_r=6Z3BNK326ZH91DJ8XS8G'\n",
    "# result = requests.get(website)\n",
    "# content = result.text\n",
    "# soup = BeautifulSoup(content, 'lxml')\n",
    "# print(soup.prettify())\n"
   ]
  }
 ],
 "metadata": {
  "kernelspec": {
   "display_name": "base",
   "language": "python",
   "name": "python3"
  },
  "language_info": {
   "codemirror_mode": {
    "name": "ipython",
    "version": 3
   },
   "file_extension": ".py",
   "mimetype": "text/x-python",
   "name": "python",
   "nbconvert_exporter": "python",
   "pygments_lexer": "ipython3",
   "version": "3.10.9"
  },
  "orig_nbformat": 4
 },
 "nbformat": 4,
 "nbformat_minor": 2
}
