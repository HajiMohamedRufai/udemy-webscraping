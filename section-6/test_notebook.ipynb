{
 "cells": [
  {
   "cell_type": "code",
   "execution_count": 1,
   "metadata": {},
   "outputs": [],
   "source": [
    "website = \"https://www.audible.com/search\"\n"
   ]
  },
  {
   "cell_type": "code",
   "execution_count": 15,
   "metadata": {},
   "outputs": [],
   "source": [
    "from selenium import webdriver\n",
    "from selenium.webdriver.common.by import By\n",
    "from selenium.webdriver.chrome.options import Options\n",
    "from selenium.webdriver.support.ui import WebDriverWait\n",
    "from selenium.webdriver.support import expected_conditions as EC\n",
    "import pandas as pd\n",
    "import time\n",
    "\n",
    "from selenium import webdriver\n",
    "from selenium.webdriver.common.by import By\n",
    "from selenium.webdriver.chrome.options import Options\n",
    "from selenium.webdriver.support.ui import WebDriverWait\n",
    "from selenium.webdriver.support import expected_conditions as EC\n",
    "import pandas as pd\n",
    "import time\n",
    "from selenium.webdriver.chrome.service import Service\n",
    "\n",
    "website = \"https://www.audible.com/search\"\n",
    "\n",
    "# Chrome options # Chrome options \n",
    "options = Options()\n",
    "# options.headless = True\n"
   ]
  },
  {
   "attachments": {},
   "cell_type": "markdown",
   "metadata": {},
   "source": [
    "## Markdown xpath\n",
    "1st title = /html/body/div[1]/div[5]/div[5]/div/div[2]/div[4]/div/div/div/span/ul/li[1]/div/div[1]/div/div[2]/div/div/span/ul/li[1]/h3/a\n",
    "1st title = //*[@id=\"product-list-a11y-skiplink-target\"]/span/ul/li[1]/div/div[1]/div/div[2]/div/div/span/ul/li[1]/h3/a\n",
    "\n",
    "ul_box = //*[@id=\"product-list-a11y-skiplink-target\"]/span/ul\n",
    "ul_box = /html/body/div[1]/div[5]/div[5]/div/div[2]/div[4]/div/div/div/span/ul\n",
    "/html/body/div[1]/div[5]/div[5]/div/div[2]/div[4]/div/div/div/span/ul"
   ]
  },
  {
   "cell_type": "code",
   "execution_count": 19,
   "metadata": {},
   "outputs": [
    {
     "name": "stdout",
     "output_type": "stream",
     "text": [
      "Shattersoul\n",
      "Kyle Kirrin\n",
      "Travis Baldree\n",
      "Ripple System, Book 4\n",
      "20 hrs and 15 mins\n",
      "06-02-23\n",
      "English\n"
     ]
    }
   ],
   "source": [
    "\n",
    "# Specify the path to the Chrome driver executable\n",
    "chrome_driver_path = '/usr/bin/google-chrome'\n",
    "\n",
    "# Create a Service object\n",
    "service = Service(chrome_driver_path)\n",
    "\n",
    "# Set Chrome options if needed\n",
    "options = webdriver.ChromeOptions()\n",
    "options.add_argument('--headless')\n",
    "\n",
    "# Create the Chrome driver instance using the Service object and options\n",
    "driver = webdriver.Chrome(service=service, options=options)\n",
    "driver.get(website)\n",
    "xpath = '//*[@id=\"product-list-a11y-skiplink-target\"]/span/ul'\n",
    "box = driver.find_element(By.XPATH, xpath)\n",
    "\n",
    "# true = box.find_element(By.XPATH, './/li[contains(@class, \"productListItem\")]')  == box.find_element(By.XPATH, f'{xpath}//li[contains(@class, \"productListItem\")]')\n",
    "product = box.find_element(By.XPATH, f'{xpath}//li[contains(@class, \"productListItem\")]')\n",
    "# print(product.text)\n",
    "title = product.find_element(By.XPATH, './/h3').text.strip()\n",
    "author = product.find_element(By.XPATH, './/li[contains(@class, \"authorLabel\")]').text.split(':')[1].strip()\n",
    "narrator = product.find_element(By.XPATH, './/li[contains(@class, \"narratorLabel\")]').text.split(':')[1].strip()\n",
    "series = product.find_element(By.XPATH, './/li[contains(@class, \"seriesLabel\")]').text.split(':')[1].strip()\n",
    "length = product.find_element(By.XPATH, './/li[contains(@class, \"runtimeLabel\")]').text.split(':')[1].strip()\n",
    "releaseDate = product.find_element(By.XPATH, './/li[contains(@class, \"releaseDateLabel\")]').text.split(':')[1].strip()\n",
    "language = product.find_element(By.XPATH, './/li[contains(@class, \"languageLabel\")]').text.split(':')[1].strip()\n",
    "\n",
    "print(title, author, narrator, series, length, releaseDate, language, sep='\\n')\n",
    "\n",
    "\n",
    "# print(title)\n",
    "\n",
    "driver.close()\n",
    "driver.quit()\n"
   ]
  },
  {
   "cell_type": "code",
   "execution_count": 9,
   "metadata": {},
   "outputs": [
    {
     "name": "stdout",
     "output_type": "stream",
     "text": [
      "\n"
     ]
    }
   ],
   "source": [
    "print(title)"
   ]
  },
  {
   "attachments": {},
   "cell_type": "markdown",
   "metadata": {},
   "source": [
    "## scrape the page\n"
   ]
  },
  {
   "cell_type": "code",
   "execution_count": 23,
   "metadata": {},
   "outputs": [
    {
     "ename": "NameError",
     "evalue": "name 'NoSuchElementException' is not defined",
     "output_type": "error",
     "traceback": [
      "\u001b[0;31m---------------------------------------------------------------------------\u001b[0m",
      "\u001b[0;31mNoSuchElementException\u001b[0m                    Traceback (most recent call last)",
      "Cell \u001b[0;32mIn[23], line 35\u001b[0m\n\u001b[1;32m     34\u001b[0m \u001b[39mtry\u001b[39;00m:\n\u001b[0;32m---> 35\u001b[0m     series\u001b[39m.\u001b[39mappend(product\u001b[39m.\u001b[39;49mfind_element(By\u001b[39m.\u001b[39;49mXPATH, \u001b[39m'\u001b[39;49m\u001b[39m.//li[contains(@class, \u001b[39;49m\u001b[39m\"\u001b[39;49m\u001b[39mseriesLabel\u001b[39;49m\u001b[39m\"\u001b[39;49m\u001b[39m)]\u001b[39;49m\u001b[39m'\u001b[39;49m)\u001b[39m.\u001b[39mtext\u001b[39m.\u001b[39msplit(\u001b[39m'\u001b[39m\u001b[39m:\u001b[39m\u001b[39m'\u001b[39m)[\u001b[39m1\u001b[39m]\u001b[39m.\u001b[39mstrip())\n\u001b[1;32m     36\u001b[0m \u001b[39mexcept\u001b[39;00m NoSuchElementException:\n",
      "File \u001b[0;32m~/anaconda3/lib/python3.10/site-packages/selenium/webdriver/remote/webelement.py:425\u001b[0m, in \u001b[0;36mWebElement.find_element\u001b[0;34m(self, by, value)\u001b[0m\n\u001b[1;32m    423\u001b[0m     value \u001b[39m=\u001b[39m \u001b[39mf\u001b[39m\u001b[39m'\u001b[39m\u001b[39m[name=\u001b[39m\u001b[39m\"\u001b[39m\u001b[39m{\u001b[39;00mvalue\u001b[39m}\u001b[39;00m\u001b[39m\"\u001b[39m\u001b[39m]\u001b[39m\u001b[39m'\u001b[39m\n\u001b[0;32m--> 425\u001b[0m \u001b[39mreturn\u001b[39;00m \u001b[39mself\u001b[39;49m\u001b[39m.\u001b[39;49m_execute(Command\u001b[39m.\u001b[39;49mFIND_CHILD_ELEMENT, {\u001b[39m\"\u001b[39;49m\u001b[39musing\u001b[39;49m\u001b[39m\"\u001b[39;49m: by, \u001b[39m\"\u001b[39;49m\u001b[39mvalue\u001b[39;49m\u001b[39m\"\u001b[39;49m: value})[\u001b[39m\"\u001b[39m\u001b[39mvalue\u001b[39m\u001b[39m\"\u001b[39m]\n",
      "File \u001b[0;32m~/anaconda3/lib/python3.10/site-packages/selenium/webdriver/remote/webelement.py:403\u001b[0m, in \u001b[0;36mWebElement._execute\u001b[0;34m(self, command, params)\u001b[0m\n\u001b[1;32m    402\u001b[0m params[\u001b[39m\"\u001b[39m\u001b[39mid\u001b[39m\u001b[39m\"\u001b[39m] \u001b[39m=\u001b[39m \u001b[39mself\u001b[39m\u001b[39m.\u001b[39m_id\n\u001b[0;32m--> 403\u001b[0m \u001b[39mreturn\u001b[39;00m \u001b[39mself\u001b[39;49m\u001b[39m.\u001b[39;49m_parent\u001b[39m.\u001b[39;49mexecute(command, params)\n",
      "File \u001b[0;32m~/anaconda3/lib/python3.10/site-packages/selenium/webdriver/remote/webdriver.py:440\u001b[0m, in \u001b[0;36mWebDriver.execute\u001b[0;34m(self, driver_command, params)\u001b[0m\n\u001b[1;32m    439\u001b[0m \u001b[39mif\u001b[39;00m response:\n\u001b[0;32m--> 440\u001b[0m     \u001b[39mself\u001b[39;49m\u001b[39m.\u001b[39;49merror_handler\u001b[39m.\u001b[39;49mcheck_response(response)\n\u001b[1;32m    441\u001b[0m     response[\u001b[39m\"\u001b[39m\u001b[39mvalue\u001b[39m\u001b[39m\"\u001b[39m] \u001b[39m=\u001b[39m \u001b[39mself\u001b[39m\u001b[39m.\u001b[39m_unwrap_value(response\u001b[39m.\u001b[39mget(\u001b[39m\"\u001b[39m\u001b[39mvalue\u001b[39m\u001b[39m\"\u001b[39m, \u001b[39mNone\u001b[39;00m))\n",
      "File \u001b[0;32m~/anaconda3/lib/python3.10/site-packages/selenium/webdriver/remote/errorhandler.py:245\u001b[0m, in \u001b[0;36mErrorHandler.check_response\u001b[0;34m(self, response)\u001b[0m\n\u001b[1;32m    244\u001b[0m     \u001b[39mraise\u001b[39;00m exception_class(message, screen, stacktrace, alert_text)  \u001b[39m# type: ignore[call-arg]  # mypy is not smart enough here\u001b[39;00m\n\u001b[0;32m--> 245\u001b[0m \u001b[39mraise\u001b[39;00m exception_class(message, screen, stacktrace)\n",
      "\u001b[0;31mNoSuchElementException\u001b[0m: Message: no such element: Unable to locate element: {\"method\":\"xpath\",\"selector\":\".//li[contains(@class, \"seriesLabel\")]\"}\n  (Session info: headless chrome=113.0.5672.126)\nStacktrace:\n0   chromedriver                        0x000000010e5af598 chromedriver + 4973976\n1   chromedriver                        0x000000010e5a6913 chromedriver + 4938003\n2   chromedriver                        0x000000010e163cd6 chromedriver + 470230\n3   chromedriver                        0x000000010e1a72ff chromedriver + 746239\n4   chromedriver                        0x000000010e1a7591 chromedriver + 746897\n5   chromedriver                        0x000000010e19af76 chromedriver + 696182\n6   chromedriver                        0x000000010e1cb9ed chromedriver + 895469\n7   chromedriver                        0x000000010e19ae51 chromedriver + 695889\n8   chromedriver                        0x000000010e1cbb7e chromedriver + 895870\n9   chromedriver                        0x000000010e1e6856 chromedriver + 1005654\n10  chromedriver                        0x000000010e1cb793 chromedriver + 894867\n11  chromedriver                        0x000000010e19921f chromedriver + 688671\n12  chromedriver                        0x000000010e19a56e chromedriver + 693614\n13  chromedriver                        0x000000010e569bb7 chromedriver + 4688823\n14  chromedriver                        0x000000010e56ea51 chromedriver + 4708945\n15  chromedriver                        0x000000010e57540f chromedriver + 4736015\n16  chromedriver                        0x000000010e56f91a chromedriver + 4712730\n17  chromedriver                        0x000000010e54287c chromedriver + 4528252\n18  chromedriver                        0x000000010e58ef28 chromedriver + 4841256\n19  chromedriver                        0x000000010e58f0a7 chromedriver + 4841639\n20  chromedriver                        0x000000010e5a028f chromedriver + 4911759\n21  libsystem_pthread.dylib             0x00007ff81061f4e1 _pthread_start + 125\n22  libsystem_pthread.dylib             0x00007ff81061af6b thread_start + 15\n",
      "\nDuring handling of the above exception, another exception occurred:\n",
      "\u001b[0;31mNameError\u001b[0m                                 Traceback (most recent call last)",
      "Cell \u001b[0;32mIn[23], line 36\u001b[0m\n\u001b[1;32m     34\u001b[0m \u001b[39mtry\u001b[39;00m:\n\u001b[1;32m     35\u001b[0m     series\u001b[39m.\u001b[39mappend(product\u001b[39m.\u001b[39mfind_element(By\u001b[39m.\u001b[39mXPATH, \u001b[39m'\u001b[39m\u001b[39m.//li[contains(@class, \u001b[39m\u001b[39m\"\u001b[39m\u001b[39mseriesLabel\u001b[39m\u001b[39m\"\u001b[39m\u001b[39m)]\u001b[39m\u001b[39m'\u001b[39m)\u001b[39m.\u001b[39mtext\u001b[39m.\u001b[39msplit(\u001b[39m'\u001b[39m\u001b[39m:\u001b[39m\u001b[39m'\u001b[39m)[\u001b[39m1\u001b[39m]\u001b[39m.\u001b[39mstrip())\n\u001b[0;32m---> 36\u001b[0m \u001b[39mexcept\u001b[39;00m NoSuchElementException:\n\u001b[1;32m     37\u001b[0m     series\u001b[39m.\u001b[39mappend(\u001b[39m\"\u001b[39m\u001b[39m\"\u001b[39m)\n\u001b[1;32m     38\u001b[0m length\u001b[39m.\u001b[39mappend(product\u001b[39m.\u001b[39mfind_element(By\u001b[39m.\u001b[39mXPATH, \u001b[39m'\u001b[39m\u001b[39m.//li[contains(@class, \u001b[39m\u001b[39m\"\u001b[39m\u001b[39mruntimeLabel\u001b[39m\u001b[39m\"\u001b[39m\u001b[39m)]\u001b[39m\u001b[39m'\u001b[39m)\u001b[39m.\u001b[39mtext\u001b[39m.\u001b[39msplit(\u001b[39m'\u001b[39m\u001b[39m:\u001b[39m\u001b[39m'\u001b[39m)[\u001b[39m1\u001b[39m]\u001b[39m.\u001b[39mstrip())\n",
      "\u001b[0;31mNameError\u001b[0m: name 'NoSuchElementException' is not defined"
     ]
    }
   ],
   "source": [
    "# Specify the path to the Chrome driver executable\n",
    "chrome_driver_path = '/usr/bin/google-chrome'\n",
    "\n",
    "# Create a Service object\n",
    "service = Service(chrome_driver_path)\n",
    "\n",
    "# Set Chrome options if needed\n",
    "options = webdriver.ChromeOptions()\n",
    "options.add_argument('--headless')\n",
    "\n",
    "# Create the Chrome driver instance using the Service object and options\n",
    "driver = webdriver.Chrome(service=service, options=options)\n",
    "driver.get(website)\n",
    "\n",
    "xpath = '//*[@id=\"product-list-a11y-skiplink-target\"]/span/ul'\n",
    "box = driver.find_element(By.XPATH, xpath)\n",
    "\n",
    "products = box.find_elements(By.XPATH, f'{xpath}//li[contains(@class, \"productListItem\")]')\n",
    "\n",
    "# create a dataframe with the desired info\n",
    "title = []\n",
    "author = []\n",
    "narrator = []\n",
    "series = []\n",
    "length = []\n",
    "releaseDate = []\n",
    "language = []\n",
    "\n",
    "\n",
    "for product in products:\n",
    "    title.append(product.find_element(By.XPATH, './/h3').text.strip())\n",
    "    author.append(product.find_element(By.XPATH, './/li[contains(@class, \"authorLabel\")]').text.split(':')[1].strip())\n",
    "    narrator.append(product.find_element(By.XPATH, './/li[contains(@class, \"narratorLabel\")]').text.split(':')[1].strip())\n",
    "    try:\n",
    "        series.append(product.find_element(By.XPATH, './/li[contains(@class, \"seriesLabel\")]').text.split(':')[1].strip())\n",
    "    except NoSuchElementException:\n",
    "        series.append(\"\")\n",
    "    length.append(product.find_element(By.XPATH, './/li[contains(@class, \"runtimeLabel\")]').text.split(':')[1].strip())\n",
    "    releaseDate.append(product.find_element(By.XPATH, './/li[contains(@class, \"releaseDateLabel\")]').text.split(':')[1].strip())\n",
    "    language.append(product.find_element(By.XPATH, './/li[contains(@class, \"languageLabel\")]').text.split(':')[1].strip())\n",
    "    \n",
    "# create a dataframe \n",
    "df = pd.DataFrame({'title':title, 'author':author, 'narrator':narrator,'series':series, \"length\":length,'releaseDate':releaseDate, 'language':language})\n",
    "\n",
    "# convert to csv\n",
    "df.to_csv('audio_books.csv', index=False)\n",
    "\n",
    "# print(title, author, narrator, series, length, releaseDate, language, sep='\\n')\n",
    "\n",
    "\n",
    "# print(title)\n",
    "\n",
    "driver.close()\n",
    "driver.quit()\n"
   ]
  }
 ],
 "metadata": {
  "kernelspec": {
   "display_name": "base",
   "language": "python",
   "name": "python3"
  },
  "language_info": {
   "codemirror_mode": {
    "name": "ipython",
    "version": 3
   },
   "file_extension": ".py",
   "mimetype": "text/x-python",
   "name": "python",
   "nbconvert_exporter": "python",
   "pygments_lexer": "ipython3",
   "version": "3.10.9"
  },
  "orig_nbformat": 4
 },
 "nbformat": 4,
 "nbformat_minor": 2
}
