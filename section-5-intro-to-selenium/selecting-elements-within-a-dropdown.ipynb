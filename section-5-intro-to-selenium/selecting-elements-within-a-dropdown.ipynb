{
 "cells": [
  {
   "cell_type": "code",
   "execution_count": 2,
   "metadata": {},
   "outputs": [
    {
     "name": "stderr",
     "output_type": "stream",
     "text": [
      "/var/folders/jk/jzn8yxf53h546z4w5yvmch280000gn/T/ipykernel_3951/1975197584.py:9: DeprecationWarning: executable_path has been deprecated, please pass in a Service object\n",
      "  driver = webdriver.Chrome(path)\n"
     ]
    }
   ],
   "source": [
    "from selenium import webdriver\n",
    "from selenium.webdriver.support.ui import Select\n",
    "import pandas as pd\n",
    "from selenium.webdriver.common.by import By\n",
    "\n",
    "website = \"https://www.adamchoi.co.uk/overs/detailed\"\n",
    "path = \"/Users/hajirufai/Downloads/chromedriver_mac64/chromedriver\"\n",
    "\n",
    "driver = webdriver.Chrome(path)  # This is selenium 3, where you add path, while \n",
    "# in selenium you add service \n",
    "driver.get(website)  # open chrome with the target website\n",
    "\n",
    "dropdown = Select(driver.find_element(By.ID, 'country'))\n",
    "dropdown.select_by_visible_text(\"Spain\")"
   ]
  },
  {
   "cell_type": "code",
   "execution_count": null,
   "metadata": {},
   "outputs": [],
   "source": []
  }
 ],
 "metadata": {
  "kernelspec": {
   "display_name": "base",
   "language": "python",
   "name": "python3"
  },
  "language_info": {
   "codemirror_mode": {
    "name": "ipython",
    "version": 3
   },
   "file_extension": ".py",
   "mimetype": "text/x-python",
   "name": "python",
   "nbconvert_exporter": "python",
   "pygments_lexer": "ipython3",
   "version": "3.10.9"
  },
  "orig_nbformat": 4
 },
 "nbformat": 4,
 "nbformat_minor": 2
}
